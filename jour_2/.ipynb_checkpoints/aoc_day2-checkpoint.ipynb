{
 "cells": [
  {
   "cell_type": "code",
   "execution_count": 36,
   "id": "e2c11f02-b747-4674-b5e2-970836b99c68",
   "metadata": {
    "tags": []
   },
   "outputs": [
    {
     "name": "stdout",
     "output_type": "stream",
     "text": [
      "distance : 2105, depth : 807, dist * depth = 1698735\n",
      "distance : 2105, depth : 757618, dist * depth = 1594785890\n"
     ]
    }
   ],
   "source": [
    "import numpy as np\n",
    "\n",
    "# Problem 1\n",
    "input_fname = 'input.txt';\n",
    "text_file = open(input_fname, \"r\", newline='\\n')\n",
    "input_arr = text_file.read().split('\\n')\n",
    "input_arr = [line.split(' ') for line in input_arr]\n",
    "depth = 0; \n",
    "distance = 0;\n",
    "for command in input_arr:\n",
    "    command[1] = int(command[1])\n",
    "    if command[0] == 'up':\n",
    "        depth = depth - command[1];\n",
    "    elif command[0] == 'down':\n",
    "        depth = depth + command[1];\n",
    "    elif command[0] == 'forward':\n",
    "        distance = distance + command[1];\n",
    "    else:\n",
    "        print('Bad Input Command!')\n",
    "print(\"distance : %i, depth : %i, dist * depth = %i\" % (distance, depth, depth*distance))        \n",
    "\n",
    "# Problem 2\n",
    "depth = 0; \n",
    "distance = 0;\n",
    "aim = 0;\n",
    "for command in input_arr:\n",
    "    command[1] = int(command[1])\n",
    "    if command[0] == 'up':\n",
    "        aim = aim - command[1];\n",
    "    elif command[0] == 'down':\n",
    "        aim = aim + command[1];\n",
    "    elif command[0] == 'forward':\n",
    "        distance = distance + command[1];\n",
    "        depth = depth + command[1]*aim;\n",
    "    else:\n",
    "        print('Bad Input Command!')\n",
    "print(\"distance : %i, depth : %i, dist * depth = %i\" % (distance, depth, depth*distance))        \n",
    "\n"
   ]
  },
  {
   "cell_type": "code",
   "execution_count": 31,
   "id": "7f36e35b-1a76-436c-9013-ff7f1d7f67d9",
   "metadata": {},
   "outputs": [
    {
     "data": {
      "text/plain": [
       "True"
      ]
     },
     "execution_count": 31,
     "metadata": {},
     "output_type": "execute_result"
    }
   ],
   "source": [
    "\n",
    "\n",
    "'abc' in ['ac', 'abc', 'ad']"
   ]
  },
  {
   "cell_type": "code",
   "execution_count": 14,
   "id": "6ab0f1be-21f8-4a86-aef4-9703b48cce5a",
   "metadata": {},
   "outputs": [
    {
     "data": {
      "text/plain": [
       "''"
      ]
     },
     "execution_count": 14,
     "metadata": {},
     "output_type": "execute_result"
    }
   ],
   "source": [
    "input_arr"
   ]
  }
 ],
 "metadata": {
  "kernelspec": {
   "display_name": "Python 3 (ipykernel)",
   "language": "python",
   "name": "python3"
  },
  "language_info": {
   "codemirror_mode": {
    "name": "ipython",
    "version": 3
   },
   "file_extension": ".py",
   "mimetype": "text/x-python",
   "name": "python",
   "nbconvert_exporter": "python",
   "pygments_lexer": "ipython3",
   "version": "3.9.7"
  }
 },
 "nbformat": 4,
 "nbformat_minor": 5
}
